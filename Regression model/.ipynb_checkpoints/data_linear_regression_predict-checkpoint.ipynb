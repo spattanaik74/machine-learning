{
 "cells": [
  {
   "cell_type": "code",
   "execution_count": 4,
   "id": "71b4afdc",
   "metadata": {},
   "outputs": [],
   "source": [
    "import pandas as pd\n",
    "import matplotlib.pyplot as plt\n",
    "import numpy as np"
   ]
  },
  {
   "cell_type": "code",
   "execution_count": 5,
   "id": "33830b24",
   "metadata": {},
   "outputs": [
    {
     "name": "stdout",
     "output_type": "stream",
     "text": [
      "Collecting openpyxl\n",
      "  Downloading openpyxl-3.0.10-py2.py3-none-any.whl (242 kB)\n",
      "Collecting et-xmlfile\n",
      "  Downloading et_xmlfile-1.1.0-py3-none-any.whl (4.7 kB)\n",
      "Installing collected packages: et-xmlfile, openpyxl\n",
      "Successfully installed et-xmlfile-1.1.0 openpyxl-3.0.10\n",
      "Note: you may need to restart the kernel to use updated packages.\n"
     ]
    }
   ],
   "source": [
    "pip install openpyxl"
   ]
  },
  {
   "cell_type": "code",
   "execution_count": 24,
   "id": "f0180583",
   "metadata": {},
   "outputs": [],
   "source": [
    "dataset_ = pd.ExcelFile('aga_cost_regression.xlsx')\n",
    "data_set_1 = pd.read_excel(dataset_, 'age_vs_budget') \n",
    "\n",
    "x = data_set_1.iloc[:, 1:-1].values\n",
    "y = data_set_1.iloc[:, -1].values"
   ]
  },
  {
   "cell_type": "code",
   "execution_count": 25,
   "id": "bd2c2c0d",
   "metadata": {},
   "outputs": [
    {
     "name": "stdout",
     "output_type": "stream",
     "text": [
      "[[55]\n",
      " [42]\n",
      " [37]\n",
      " [38]\n",
      " [57]\n",
      " [31]\n",
      " [31]\n",
      " [39]\n",
      " [41]\n",
      " [55]\n",
      " [35]\n",
      " [62]\n",
      " [68]\n",
      " [41]\n",
      " [41]\n",
      " [40]\n",
      " [43]\n",
      " [43]\n",
      " [53]\n",
      " [35]\n",
      " [52]\n",
      " [25]\n",
      " [29]\n",
      " [46]\n",
      " [44]\n",
      " [44]\n",
      " [59]\n",
      " [45]\n",
      " [41]\n",
      " [28]\n",
      " [57]\n",
      " [58]\n",
      " [28]\n",
      " [32]\n",
      " [41]\n",
      " [51]\n",
      " [46]\n",
      " [49]\n",
      " [50]\n",
      " [57]\n",
      " [52]\n",
      " [55]\n",
      " [55]\n",
      " [59]\n",
      " [46]\n",
      " [61]\n",
      " [30]\n",
      " [49]\n",
      " [52]\n",
      " [63]\n",
      " [56]\n",
      " [47]\n",
      " [35]\n",
      " [56]\n",
      " [54]\n",
      " [42]\n",
      " [48]\n",
      " [57]\n",
      " [55]\n",
      " [42]\n",
      " [51]\n",
      " [68]\n",
      " [29]\n",
      " [56]\n",
      " [57]\n",
      " [55]\n",
      " [34]\n",
      " [62]\n",
      " [40]\n",
      " [31]\n",
      " [42]\n",
      " [52]\n",
      " [60]\n",
      " [36]\n",
      " [41]\n",
      " [45]\n",
      " [47]\n",
      " [53]\n",
      " [56]\n",
      " [42]\n",
      " [37]\n",
      " [32]\n",
      " [27]\n",
      " [38]\n",
      " [38]\n",
      " [43]\n",
      " [46]\n",
      " [47]\n",
      " [58]\n",
      " [65]\n",
      " [45]\n",
      " [37]\n",
      " [53]\n",
      " [41]\n",
      " [33]\n",
      " [65]\n",
      " [34]\n",
      " [54]\n",
      " [37]\n",
      " [48]\n",
      " [50]\n",
      " [42]\n",
      " [28]\n",
      " [22]\n",
      " [40]\n",
      " [38]\n",
      " [41]\n",
      " [36]\n",
      " [32]\n",
      " [45]\n",
      " [37]\n",
      " [32]\n",
      " [45]\n",
      " [48]\n",
      " [33]\n",
      " [43]\n",
      " [34]\n",
      " [39]\n",
      " [56]\n",
      " [57]\n",
      " [52]\n",
      " [47]\n",
      " [49]\n",
      " [45]\n",
      " [42]\n",
      " [40]\n",
      " [58]\n",
      " [48]\n",
      " [35]\n",
      " [47]\n",
      " [42]\n",
      " [38]\n",
      " [34]\n",
      " [43]\n",
      " [56]\n",
      " [50]\n",
      " [24]\n",
      " [45]\n",
      " [34]\n",
      " [53]\n",
      " [54]\n",
      " [66]\n",
      " [39]\n",
      " [38]\n",
      " [57]\n",
      " [48]\n",
      " [41]\n",
      " [49]\n",
      " [55]\n",
      " [32]\n",
      " [53]\n",
      " [59]\n",
      " [41]\n",
      " [42]\n",
      " [37]\n",
      " [43]\n",
      " [60]\n",
      " [57]\n",
      " [65]\n",
      " [28]\n",
      " [47]\n",
      " [44]\n",
      " [50]\n",
      " [38]\n",
      " [52]\n",
      " [34]\n",
      " [47]\n",
      " [47]\n",
      " [47]\n",
      " [50]\n",
      " [23]\n",
      " [66]\n",
      " [40]\n",
      " [35]\n",
      " [40]\n",
      " [49]\n",
      " [66]\n",
      " [55]\n",
      " [41]\n",
      " [40]\n",
      " [40]\n",
      " [36]\n",
      " [49]\n",
      " [42]\n",
      " [41]\n",
      " [45]\n",
      " [40]\n",
      " [35]\n",
      " [47]\n",
      " [57]\n",
      " [52]\n",
      " [53]\n",
      " [37]\n",
      " [59]\n",
      " [33]\n",
      " [40]\n",
      " [63]\n",
      " [47]\n",
      " [36]\n",
      " [44]\n",
      " [44]\n",
      " [49]\n",
      " [52]\n",
      " [58]\n",
      " [31]\n",
      " [24]\n",
      " [35]\n",
      " [57]\n",
      " [58]\n",
      " [64]\n",
      " [53]\n",
      " [40]\n",
      " [36]\n",
      " [38]\n",
      " [48]\n",
      " [35]\n",
      " [44]\n",
      " [46]\n",
      " [57]\n",
      " [51]\n",
      " [35]\n",
      " [53]\n",
      " [41]\n",
      " [33]]\n"
     ]
    }
   ],
   "source": [
    "print(x)"
   ]
  },
  {
   "cell_type": "code",
   "execution_count": 26,
   "id": "b15e1ca8",
   "metadata": {},
   "outputs": [
    {
     "name": "stdout",
     "output_type": "stream",
     "text": [
      "[336.   240.45 165.9  157.5  369.6  202.65 154.35 169.05 164.85 332.85\n",
      " 165.9  450.45 542.85 274.05 329.7  195.3  289.8  227.85 298.2  160.65\n",
      " 259.35  96.6  105.   380.1  207.9  389.55 326.55 266.7  260.4  144.9\n",
      " 430.5  288.75 138.6  197.4  232.05 294.   228.9  353.85 239.4  418.95\n",
      " 309.75 326.55 316.05 341.25 210.   469.35 107.1  350.7  260.4  534.45\n",
      " 340.2  285.6  162.75 268.8  253.05 259.35 297.15 422.1  418.95 242.55\n",
      " 345.45 576.45  90.3  295.05 414.75 439.95 148.05 386.4  204.75 181.65\n",
      " 267.75 315.   451.5  200.55 221.55 290.85 309.75 381.15 319.2  252.\n",
      " 195.3  220.5   96.6  210.   194.25 182.7  249.9  323.4  297.15 455.7\n",
      " 326.55 168.   280.35 282.45 225.75 403.2  148.05 359.1  197.4  250.95\n",
      " 295.05 196.35 130.2   88.2  231.   207.9  267.75 143.85 166.95 239.4\n",
      " 162.75 168.   267.75 231.   122.85 183.75 255.15 260.4  300.3  287.7\n",
      " 283.5  383.25 283.5  224.7  254.1  257.25 354.9  331.8  153.3  345.45\n",
      " 213.15 233.1  193.2  194.25 309.75 215.25 118.65 288.75 130.2  383.25\n",
      " 376.95 445.2  262.5  264.6  321.3  339.15 307.65 346.5  285.6  239.4\n",
      " 294.   441.   178.5  274.05 233.1  259.35 430.5  361.2  456.75 142.8\n",
      " 312.9  287.7  307.65 204.75 376.95 138.6  326.55 280.35 278.25 431.55\n",
      "  94.5  385.35 240.45 237.3  269.85 322.35 424.2  255.15 287.7  279.3\n",
      " 208.95 226.8  386.4  224.7  195.3  303.45 185.85 270.9  226.8  285.6\n",
      " 299.25 250.95 184.8  330.75 101.85 223.65 322.35 365.4  181.65 287.7\n",
      " 221.55 374.85 304.5  381.15 122.85  95.55 169.05 390.6  324.45 487.2\n",
      " 393.75 235.2  135.45 164.85 243.6  174.3  246.75 327.6  406.35 261.45\n",
      " 151.2  299.25 222.6  266.7 ]\n"
     ]
    }
   ],
   "source": [
    "print(y)"
   ]
  },
  {
   "cell_type": "code",
   "execution_count": 42,
   "id": "8bd592b4",
   "metadata": {},
   "outputs": [],
   "source": [
    "from sklearn.model_selection import train_test_split\n",
    "\n",
    "x_train, x_test, y_train, y_test = train_test_split(x, y, test_size=0.1, random_state=0)"
   ]
  },
  {
   "cell_type": "code",
   "execution_count": 43,
   "id": "739214a9",
   "metadata": {},
   "outputs": [
    {
     "data": {
      "text/html": [
       "<style>#sk-container-id-4 {color: black;background-color: white;}#sk-container-id-4 pre{padding: 0;}#sk-container-id-4 div.sk-toggleable {background-color: white;}#sk-container-id-4 label.sk-toggleable__label {cursor: pointer;display: block;width: 100%;margin-bottom: 0;padding: 0.3em;box-sizing: border-box;text-align: center;}#sk-container-id-4 label.sk-toggleable__label-arrow:before {content: \"▸\";float: left;margin-right: 0.25em;color: #696969;}#sk-container-id-4 label.sk-toggleable__label-arrow:hover:before {color: black;}#sk-container-id-4 div.sk-estimator:hover label.sk-toggleable__label-arrow:before {color: black;}#sk-container-id-4 div.sk-toggleable__content {max-height: 0;max-width: 0;overflow: hidden;text-align: left;background-color: #f0f8ff;}#sk-container-id-4 div.sk-toggleable__content pre {margin: 0.2em;color: black;border-radius: 0.25em;background-color: #f0f8ff;}#sk-container-id-4 input.sk-toggleable__control:checked~div.sk-toggleable__content {max-height: 200px;max-width: 100%;overflow: auto;}#sk-container-id-4 input.sk-toggleable__control:checked~label.sk-toggleable__label-arrow:before {content: \"▾\";}#sk-container-id-4 div.sk-estimator input.sk-toggleable__control:checked~label.sk-toggleable__label {background-color: #d4ebff;}#sk-container-id-4 div.sk-label input.sk-toggleable__control:checked~label.sk-toggleable__label {background-color: #d4ebff;}#sk-container-id-4 input.sk-hidden--visually {border: 0;clip: rect(1px 1px 1px 1px);clip: rect(1px, 1px, 1px, 1px);height: 1px;margin: -1px;overflow: hidden;padding: 0;position: absolute;width: 1px;}#sk-container-id-4 div.sk-estimator {font-family: monospace;background-color: #f0f8ff;border: 1px dotted black;border-radius: 0.25em;box-sizing: border-box;margin-bottom: 0.5em;}#sk-container-id-4 div.sk-estimator:hover {background-color: #d4ebff;}#sk-container-id-4 div.sk-parallel-item::after {content: \"\";width: 100%;border-bottom: 1px solid gray;flex-grow: 1;}#sk-container-id-4 div.sk-label:hover label.sk-toggleable__label {background-color: #d4ebff;}#sk-container-id-4 div.sk-serial::before {content: \"\";position: absolute;border-left: 1px solid gray;box-sizing: border-box;top: 0;bottom: 0;left: 50%;z-index: 0;}#sk-container-id-4 div.sk-serial {display: flex;flex-direction: column;align-items: center;background-color: white;padding-right: 0.2em;padding-left: 0.2em;position: relative;}#sk-container-id-4 div.sk-item {position: relative;z-index: 1;}#sk-container-id-4 div.sk-parallel {display: flex;align-items: stretch;justify-content: center;background-color: white;position: relative;}#sk-container-id-4 div.sk-item::before, #sk-container-id-4 div.sk-parallel-item::before {content: \"\";position: absolute;border-left: 1px solid gray;box-sizing: border-box;top: 0;bottom: 0;left: 50%;z-index: -1;}#sk-container-id-4 div.sk-parallel-item {display: flex;flex-direction: column;z-index: 1;position: relative;background-color: white;}#sk-container-id-4 div.sk-parallel-item:first-child::after {align-self: flex-end;width: 50%;}#sk-container-id-4 div.sk-parallel-item:last-child::after {align-self: flex-start;width: 50%;}#sk-container-id-4 div.sk-parallel-item:only-child::after {width: 0;}#sk-container-id-4 div.sk-dashed-wrapped {border: 1px dashed gray;margin: 0 0.4em 0.5em 0.4em;box-sizing: border-box;padding-bottom: 0.4em;background-color: white;}#sk-container-id-4 div.sk-label label {font-family: monospace;font-weight: bold;display: inline-block;line-height: 1.2em;}#sk-container-id-4 div.sk-label-container {text-align: center;}#sk-container-id-4 div.sk-container {/* jupyter's `normalize.less` sets `[hidden] { display: none; }` but bootstrap.min.css set `[hidden] { display: none !important; }` so we also need the `!important` here to be able to override the default hidden behavior on the sphinx rendered scikit-learn.org. See: https://github.com/scikit-learn/scikit-learn/issues/21755 */display: inline-block !important;position: relative;}#sk-container-id-4 div.sk-text-repr-fallback {display: none;}</style><div id=\"sk-container-id-4\" class=\"sk-top-container\"><div class=\"sk-text-repr-fallback\"><pre>LinearRegression()</pre><b>In a Jupyter environment, please rerun this cell to show the HTML representation or trust the notebook. <br />On GitHub, the HTML representation is unable to render, please try loading this page with nbviewer.org.</b></div><div class=\"sk-container\" hidden><div class=\"sk-item\"><div class=\"sk-estimator sk-toggleable\"><input class=\"sk-toggleable__control sk-hidden--visually\" id=\"sk-estimator-id-4\" type=\"checkbox\" checked><label for=\"sk-estimator-id-4\" class=\"sk-toggleable__label sk-toggleable__label-arrow\">LinearRegression</label><div class=\"sk-toggleable__content\"><pre>LinearRegression()</pre></div></div></div></div></div>"
      ],
      "text/plain": [
       "LinearRegression()"
      ]
     },
     "execution_count": 43,
     "metadata": {},
     "output_type": "execute_result"
    }
   ],
   "source": [
    "from sklearn.linear_model import LinearRegression\n",
    "\n",
    "regressor = LinearRegression()\n",
    "\n",
    "regressor.fit(x_train, y_train)"
   ]
  },
  {
   "cell_type": "code",
   "execution_count": 44,
   "id": "7d0024d5",
   "metadata": {},
   "outputs": [],
   "source": [
    "y_pred = regressor.predict(x_test)"
   ]
  },
  {
   "cell_type": "code",
   "execution_count": 45,
   "id": "bd4531db",
   "metadata": {},
   "outputs": [
    {
     "data": {
      "image/png": "[encoded data removed]",
      "text/plain": [
       "<Figure size 432x288 with 1 Axes>"
      ]
     },
     "metadata": {
      "needs_background": "light"
     },
     "output_type": "display_data"
    }
   ],
   "source": [
    "plt.scatter(x_train, y_train, color='red')\n",
    "plt.plot(x_train, regressor.predict(x_train), color='blue')\n",
    "plt.title('age vs cost (training set)')\n",
    "plt.xlabel('age')\n",
    "plt.ylabel('cost')\n",
    "plt.show()"
   ]
  },
  {
   "cell_type": "code",
   "execution_count": 46,
   "id": "f2d7e924",
   "metadata": {},
   "outputs": [
    {
     "data": {
      "image/png": "[encoded data removed]",
      "text/plain": [
       "<Figure size 432x288 with 1 Axes>"
      ]
     },
     "metadata": {
      "needs_background": "light"
     },
     "output_type": "display_data"
    }
   ],
   "source": [
    "plt.scatter(x_test, y_test, color='red')\n",
    "plt.plot(x_train, regressor.predict(x_train), color='blue')\n",
    "plt.title('age vs cost (training set)')\n",
    "plt.xlabel('age')\n",
    "plt.ylabel('cost')\n",
    "plt.show()"
   ]
  },
  {
   "cell_type": "code",
   "execution_count": 49,
   "id": "a92e470c",
   "metadata": {},
   "outputs": [
    {
     "data": {
      "text/plain": [
       "array([367.98635274])"
      ]
     },
     "execution_count": 49,
     "metadata": {},
     "output_type": "execute_result"
    }
   ],
   "source": [
    "regressor.predict([[57.5]])"
   ]
  },
  {
   "cell_type": "code",
   "execution_count": 50,
   "id": "c939a440",
   "metadata": {},
   "outputs": [
    {
     "data": {
      "text/plain": [
       "0.722116192393325"
      ]
     },
     "execution_count": 50,
     "metadata": {},
     "output_type": "execute_result"
    }
   ],
   "source": [
    "from sklearn.metrics import r2_score\n",
    "r2_score(y_test, y_pred)"
   ]
  },
  {
   "cell_type": "code",
   "execution_count": 55,
   "id": "f3f26078",
   "metadata": {},
   "outputs": [],
   "source": [
    "data_set_2 = pd.read_excel(dataset_, 'langley_mall_age_survey') \n",
    "\n",
    "x = data_set_2.iloc[:, :-1].values\n",
    "y = data_set_2.iloc[:, -1].values"
   ]
  },
  {
   "cell_type": "code",
   "execution_count": 56,
   "id": "13ded220",
   "metadata": {},
   "outputs": [
    {
     "name": "stdout",
     "output_type": "stream",
     "text": [
      "[[  1]\n",
      " [  2]\n",
      " [  3]\n",
      " [  4]\n",
      " [  5]\n",
      " [  6]\n",
      " [  7]\n",
      " [  8]\n",
      " [  9]\n",
      " [ 10]\n",
      " [ 11]\n",
      " [ 12]\n",
      " [ 13]\n",
      " [ 14]\n",
      " [ 15]\n",
      " [ 16]\n",
      " [ 17]\n",
      " [ 18]\n",
      " [ 19]\n",
      " [ 20]\n",
      " [ 21]\n",
      " [ 22]\n",
      " [ 23]\n",
      " [ 24]\n",
      " [ 25]\n",
      " [ 26]\n",
      " [ 27]\n",
      " [ 28]\n",
      " [ 29]\n",
      " [ 30]\n",
      " [ 31]\n",
      " [ 32]\n",
      " [ 33]\n",
      " [ 34]\n",
      " [ 35]\n",
      " [ 36]\n",
      " [ 37]\n",
      " [ 38]\n",
      " [ 39]\n",
      " [ 40]\n",
      " [ 41]\n",
      " [ 42]\n",
      " [ 43]\n",
      " [ 44]\n",
      " [ 45]\n",
      " [ 46]\n",
      " [ 47]\n",
      " [ 48]\n",
      " [ 49]\n",
      " [ 50]\n",
      " [ 51]\n",
      " [ 52]\n",
      " [ 53]\n",
      " [ 54]\n",
      " [ 55]\n",
      " [ 56]\n",
      " [ 57]\n",
      " [ 58]\n",
      " [ 59]\n",
      " [ 60]\n",
      " [ 61]\n",
      " [ 62]\n",
      " [ 63]\n",
      " [ 64]\n",
      " [ 65]\n",
      " [ 66]\n",
      " [ 67]\n",
      " [ 68]\n",
      " [ 69]\n",
      " [ 70]\n",
      " [ 71]\n",
      " [ 72]\n",
      " [ 73]\n",
      " [ 74]\n",
      " [ 75]\n",
      " [ 76]\n",
      " [ 77]\n",
      " [ 78]\n",
      " [ 79]\n",
      " [ 80]\n",
      " [ 81]\n",
      " [ 82]\n",
      " [ 83]\n",
      " [ 84]\n",
      " [ 85]\n",
      " [ 86]\n",
      " [ 87]\n",
      " [ 88]\n",
      " [ 89]\n",
      " [ 90]\n",
      " [ 91]\n",
      " [ 92]\n",
      " [ 93]\n",
      " [ 94]\n",
      " [ 95]\n",
      " [ 96]\n",
      " [ 97]\n",
      " [ 98]\n",
      " [ 99]\n",
      " [100]\n",
      " [101]\n",
      " [102]\n",
      " [103]\n",
      " [104]\n",
      " [105]\n",
      " [106]\n",
      " [107]\n",
      " [108]\n",
      " [109]\n",
      " [110]\n",
      " [111]\n",
      " [112]\n",
      " [113]\n",
      " [114]\n",
      " [115]\n",
      " [116]\n",
      " [117]\n",
      " [118]\n",
      " [119]\n",
      " [120]\n",
      " [121]\n",
      " [122]\n",
      " [123]\n",
      " [124]\n",
      " [125]\n",
      " [126]\n",
      " [127]\n",
      " [128]\n",
      " [129]\n",
      " [130]\n",
      " [131]\n",
      " [132]\n",
      " [133]\n",
      " [134]\n",
      " [135]\n",
      " [136]\n",
      " [137]\n",
      " [138]\n",
      " [139]\n",
      " [140]\n",
      " [141]\n",
      " [142]\n",
      " [143]\n",
      " [144]\n",
      " [145]\n",
      " [146]\n",
      " [147]\n",
      " [148]\n",
      " [149]\n",
      " [150]\n",
      " [151]\n",
      " [152]\n",
      " [153]\n",
      " [154]\n",
      " [155]\n",
      " [156]\n",
      " [157]\n",
      " [158]\n",
      " [159]\n",
      " [160]\n",
      " [161]\n",
      " [162]\n",
      " [163]\n",
      " [164]\n",
      " [165]\n",
      " [166]\n",
      " [167]\n",
      " [168]\n",
      " [169]\n",
      " [170]\n",
      " [171]\n",
      " [172]\n",
      " [173]\n",
      " [174]\n",
      " [175]\n",
      " [176]\n",
      " [177]\n",
      " [178]\n",
      " [179]\n",
      " [180]\n",
      " [181]\n",
      " [182]\n",
      " [183]\n",
      " [184]\n",
      " [185]\n",
      " [186]\n",
      " [187]\n",
      " [188]\n",
      " [189]\n",
      " [190]\n",
      " [191]\n",
      " [192]\n",
      " [193]\n",
      " [194]\n",
      " [195]\n",
      " [196]\n",
      " [197]\n",
      " [198]\n",
      " [199]\n",
      " [200]\n",
      " [201]\n",
      " [202]\n",
      " [203]\n",
      " [204]\n",
      " [205]\n",
      " [206]\n",
      " [207]\n",
      " [208]\n",
      " [209]\n",
      " [210]\n",
      " [211]\n",
      " [212]\n",
      " [213]\n",
      " [214]\n",
      " [215]\n",
      " [216]\n",
      " [217]\n",
      " [218]\n",
      " [219]\n",
      " [220]\n",
      " [221]\n",
      " [222]\n",
      " [223]\n",
      " [224]\n",
      " [225]\n",
      " [226]\n",
      " [227]\n",
      " [228]\n",
      " [229]\n",
      " [230]\n",
      " [231]\n",
      " [232]\n",
      " [233]\n",
      " [234]\n",
      " [235]]\n"
     ]
    }
   ],
   "source": [
    "print(x)"
   ]
  },
  {
   "cell_type": "code",
   "execution_count": 57,
   "id": "3447662e",
   "metadata": {},
   "outputs": [
    {
     "name": "stdout",
     "output_type": "stream",
     "text": [
      "[46.4 47.4 29.2 19.5 27.2 37.5 46.7 41.3 60.5 34.5 51.7 34.8 40.  32.3\n",
      " 32.3 30.8 32.6 36.9 32.6 36.7 41.3 49.2 40.3 16.7 22.5 31.2 47.7 27.7\n",
      " 19.5 41.5 40.5 49.9 33.9 38.5 21.2 52.3 47.7 40.3 56.4 39.2 48.4 32.3\n",
      " 42.  45.  27.2 43.3 34.2 42.  28.3 48.1 35.  41.8 31.6 33.6 41.3 45.2\n",
      " 38.  58.8 40.  30.5 35.3 32.6 36.1 32.6 35.3 42.8 45.8 38.2 23.6 37.2\n",
      " 36.1 42.3 36.4 51.3 57.5 41.5 48.8 40.3 32.3 46.1 33.3 50.4 29.6 39.7\n",
      " 35.3 45.5 43.3 19.5 41.3 42.8 36.9 44.4 38.5 27.7 32.3 36.7 26.6 40.3\n",
      " 36.9 28.3 46.4 52.3 47.1 49.2 46.7 33.9 37.5 42.3 47.4 43.1 47.7 38.5\n",
      " 43.9 48.1 46.4 33.6 31.2 34.2 31.2 36.1 47.4 34.5 28.7 33.3 37.5 45.8\n",
      " 40.  25.2 52.8 44.1 44.4 39.2 46.7 33.9 44.1 45.5 39.7 36.4 35.9 53.4\n",
      " 60.5 33.6 35.3 37.7 40.3 25.2 63.3 42.3 48.4 28.7 33.6 37.5 52.3 58.8\n",
      " 36.9 27.2 28.7 35.  41.  40.8 30.8 23.6 32.9 43.6 45.5 48.4 47.7 23.6\n",
      " 32.6 43.6 39.5 48.1 40.3 30.1 35.3 47.4 49.5 19.5 27.7 42.3 50.8 47.7\n",
      " 44.1 53.4 37.2 43.9 53.4 38.7 30.8 55.5 44.4 48.4 35.3 34.5 56.4 54.8\n",
      " 21.2 53.4 43.6 35.6 57.5 43.6 29.6 29.6 50.8 54.8 36.7 50.4 41.  49.5\n",
      " 36.7 34.5 35.  49.2 31.9 37.7 40.8 24.5 55.5 42.3 28.3 42.3 45.2 45.\n",
      " 43.9 58.8 43.3 39.  49.9 35.3 39.5 46.7 47.1 57.5 39. ]\n"
     ]
    }
   ],
   "source": [
    "print(y)"
   ]
  },
  {
   "cell_type": "code",
   "execution_count": 58,
   "id": "2052b999",
   "metadata": {},
   "outputs": [],
   "source": [
    "from sklearn.model_selection import train_test_split\n",
    "\n",
    "x_train, x_test, y_train, y_test = train_test_split(x, y, test_size=0.1, random_state=0)"
   ]
  },
  {
   "cell_type": "code",
   "execution_count": 59,
   "id": "a4181479",
   "metadata": {},
   "outputs": [
    {
     "data": {
      "text/html": [
       "<style>#sk-container-id-5 {color: black;background-color: white;}#sk-container-id-5 pre{padding: 0;}#sk-container-id-5 div.sk-toggleable {background-color: white;}#sk-container-id-5 label.sk-toggleable__label {cursor: pointer;display: block;width: 100%;margin-bottom: 0;padding: 0.3em;box-sizing: border-box;text-align: center;}#sk-container-id-5 label.sk-toggleable__label-arrow:before {content: \"▸\";float: left;margin-right: 0.25em;color: #696969;}#sk-container-id-5 label.sk-toggleable__label-arrow:hover:before {color: black;}#sk-container-id-5 div.sk-estimator:hover label.sk-toggleable__label-arrow:before {color: black;}#sk-container-id-5 div.sk-toggleable__content {max-height: 0;max-width: 0;overflow: hidden;text-align: left;background-color: #f0f8ff;}#sk-container-id-5 div.sk-toggleable__content pre {margin: 0.2em;color: black;border-radius: 0.25em;background-color: #f0f8ff;}#sk-container-id-5 input.sk-toggleable__control:checked~div.sk-toggleable__content {max-height: 200px;max-width: 100%;overflow: auto;}#sk-container-id-5 input.sk-toggleable__control:checked~label.sk-toggleable__label-arrow:before {content: \"▾\";}#sk-container-id-5 div.sk-estimator input.sk-toggleable__control:checked~label.sk-toggleable__label {background-color: #d4ebff;}#sk-container-id-5 div.sk-label input.sk-toggleable__control:checked~label.sk-toggleable__label {background-color: #d4ebff;}#sk-container-id-5 input.sk-hidden--visually {border: 0;clip: rect(1px 1px 1px 1px);clip: rect(1px, 1px, 1px, 1px);height: 1px;margin: -1px;overflow: hidden;padding: 0;position: absolute;width: 1px;}#sk-container-id-5 div.sk-estimator {font-family: monospace;background-color: #f0f8ff;border: 1px dotted black;border-radius: 0.25em;box-sizing: border-box;margin-bottom: 0.5em;}#sk-container-id-5 div.sk-estimator:hover {background-color: #d4ebff;}#sk-container-id-5 div.sk-parallel-item::after {content: \"\";width: 100%;border-bottom: 1px solid gray;flex-grow: 1;}#sk-container-id-5 div.sk-label:hover label.sk-toggleable__label {background-color: #d4ebff;}#sk-container-id-5 div.sk-serial::before {content: \"\";position: absolute;border-left: 1px solid gray;box-sizing: border-box;top: 0;bottom: 0;left: 50%;z-index: 0;}#sk-container-id-5 div.sk-serial {display: flex;flex-direction: column;align-items: center;background-color: white;padding-right: 0.2em;padding-left: 0.2em;position: relative;}#sk-container-id-5 div.sk-item {position: relative;z-index: 1;}#sk-container-id-5 div.sk-parallel {display: flex;align-items: stretch;justify-content: center;background-color: white;position: relative;}#sk-container-id-5 div.sk-item::before, #sk-container-id-5 div.sk-parallel-item::before {content: \"\";position: absolute;border-left: 1px solid gray;box-sizing: border-box;top: 0;bottom: 0;left: 50%;z-index: -1;}#sk-container-id-5 div.sk-parallel-item {display: flex;flex-direction: column;z-index: 1;position: relative;background-color: white;}#sk-container-id-5 div.sk-parallel-item:first-child::after {align-self: flex-end;width: 50%;}#sk-container-id-5 div.sk-parallel-item:last-child::after {align-self: flex-start;width: 50%;}#sk-container-id-5 div.sk-parallel-item:only-child::after {width: 0;}#sk-container-id-5 div.sk-dashed-wrapped {border: 1px dashed gray;margin: 0 0.4em 0.5em 0.4em;box-sizing: border-box;padding-bottom: 0.4em;background-color: white;}#sk-container-id-5 div.sk-label label {font-family: monospace;font-weight: bold;display: inline-block;line-height: 1.2em;}#sk-container-id-5 div.sk-label-container {text-align: center;}#sk-container-id-5 div.sk-container {/* jupyter's `normalize.less` sets `[hidden] { display: none; }` but bootstrap.min.css set `[hidden] { display: none !important; }` so we also need the `!important` here to be able to override the default hidden behavior on the sphinx rendered scikit-learn.org. See: https://github.com/scikit-learn/scikit-learn/issues/21755 */display: inline-block !important;position: relative;}#sk-container-id-5 div.sk-text-repr-fallback {display: none;}</style><div id=\"sk-container-id-5\" class=\"sk-top-container\"><div class=\"sk-text-repr-fallback\"><pre>LinearRegression()</pre><b>In a Jupyter environment, please rerun this cell to show the HTML representation or trust the notebook. <br />On GitHub, the HTML representation is unable to render, please try loading this page with nbviewer.org.</b></div><div class=\"sk-container\" hidden><div class=\"sk-item\"><div class=\"sk-estimator sk-toggleable\"><input class=\"sk-toggleable__control sk-hidden--visually\" id=\"sk-estimator-id-5\" type=\"checkbox\" checked><label for=\"sk-estimator-id-5\" class=\"sk-toggleable__label sk-toggleable__label-arrow\">LinearRegression</label><div class=\"sk-toggleable__content\"><pre>LinearRegression()</pre></div></div></div></div></div>"
      ],
      "text/plain": [
       "LinearRegression()"
      ]
     },
     "execution_count": 59,
     "metadata": {},
     "output_type": "execute_result"
    }
   ],
   "source": [
    "from sklearn.linear_model import LinearRegression\n",
    "\n",
    "regressor = LinearRegression()\n",
    "\n",
    "regressor.fit(x_train, y_train)"
   ]
  },
  {
   "cell_type": "code",
   "execution_count": 60,
   "id": "48f4f29c",
   "metadata": {},
   "outputs": [],
   "source": [
    "y_pred = regressor.predict(x_test)"
   ]
  },
  {
   "cell_type": "code",
   "execution_count": 62,
   "id": "5604d0fe",
   "metadata": {},
   "outputs": [
    {
     "data": {
      "image/png": "[encoded data removed]",
      "text/plain": [
       "<Figure size 432x288 with 1 Axes>"
      ]
     },
     "metadata": {
      "needs_background": "light"
     },
     "output_type": "display_data"
    }
   ],
   "source": [
    "plt.scatter(x_train, y_train, color='red')\n",
    "plt.plot(x_train, regressor.predict(x_train), color='blue')\n",
    "plt.title('age vs cost (training set)')\n",
    "plt.xlabel('day')\n",
    "plt.ylabel('age')\n",
    "plt.show()"
   ]
  },
  {
   "cell_type": "code",
   "execution_count": 64,
   "id": "1095e24d",
   "metadata": {},
   "outputs": [
    {
     "data": {
      "image/png": "[encoded data removed]",
      "text/plain": [
       "<Figure size 432x288 with 1 Axes>"
      ]
     },
     "metadata": {
      "needs_background": "light"
     },
     "output_type": "display_data"
    }
   ],
   "source": [
    "plt.scatter(x_test, y_test, color='red')\n",
    "plt.plot(x_train, regressor.predict(x_train), color='blue')\n",
    "plt.title('age vs cost (training set)')\n",
    "plt.xlabel('day')\n",
    "plt.ylabel('age')\n",
    "plt.show()"
   ]
  },
  {
   "cell_type": "code",
   "execution_count": 71,
   "id": "431cd018",
   "metadata": {},
   "outputs": [
    {
     "data": {
      "text/plain": [
       "array([36.95598831])"
      ]
     },
     "execution_count": 71,
     "metadata": {},
     "output_type": "execute_result"
    }
   ],
   "source": [
    "regressor.predict([[4]])"
   ]
  },
  {
   "cell_type": "code",
   "execution_count": 73,
   "id": "fb540772",
   "metadata": {},
   "outputs": [
    {
     "data": {
      "text/plain": [
       "-0.09766927104799605"
      ]
     },
     "execution_count": 73,
     "metadata": {},
     "output_type": "execute_result"
    }
   ],
   "source": [
    "from sklearn.metrics import r2_score\n",
    "r2_score(y_test, y_pred)"
   ]
  },
  {
   "cell_type": "code",
   "execution_count": null,
   "id": "3fbf0ed4",
   "metadata": {},
   "outputs": [],
   "source": []
  }
 ],
 "metadata": {
  "kernelspec": {
   "display_name": "Python 3 (ipykernel)",
   "language": "python",
   "name": "python3"
  },
  "language_info": {
   "codemirror_mode": {
    "name": "ipython",
    "version": 3
   },
   "file_extension": ".py",
   "mimetype": "text/x-python",
   "name": "python",
   "nbconvert_exporter": "python",
   "pygments_lexer": "ipython3",
   "version": "3.9.5"
  }
 },
 "nbformat": 4,
 "nbformat_minor": 5
}
